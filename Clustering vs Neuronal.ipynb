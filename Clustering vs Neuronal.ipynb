{
  "nbformat": 4,
  "nbformat_minor": 0,
  "metadata": {
    "colab": {
      "name": "Copy of Paper-Alex_Reinoso, Pablo_Calle.ipynb",
      "provenance": [],
      "collapsed_sections": [],
      "toc_visible": true
    },
    "kernelspec": {
      "name": "python3",
      "display_name": "Python 3"
    }
  },
  "cells": [
    {
      "cell_type": "markdown",
      "metadata": {
        "id": "vPXKRaYAHNv4",
        "colab_type": "text"
      },
      "source": [
        "\n",
        "\n",
        "#   **DESARROLLO DE UN MODELO DE MACHINE LEARNING**"
      ]
    },
    {
      "cell_type": "markdown",
      "metadata": {
        "id": "D7_sY_eBIld8",
        "colab_type": "text"
      },
      "source": [
        "## Proceso"
      ]
    },
    {
      "cell_type": "markdown",
      "metadata": {
        "id": "FMVqhZ5cIrvW",
        "colab_type": "text"
      },
      "source": [
        "### Seleccionamos un tema de interes\n",
        "El tema de este proyecto se centra en el tratamiento de un dataset, el cual contiene datos sobre los pacientes de covid-19 en el Ecuador. Se intenta mejorar o optimizar los resultados de una investigacion previamente desarrollada sobre el mismo tema."
      ]
    },
    {
      "cell_type": "markdown",
      "metadata": {
        "id": "ahx9d71VJarB",
        "colab_type": "text"
      },
      "source": [
        "### Buscamos un artículo de base referente al tema: \n",
        "\n",
        "Articulo: https://revistas.unal.edu.co/index.php/revfacmed/article/view/86476\n",
        "\n",
        "Dentro del paper anterior se observa la utilizacion de metodos correspondientes al modelo de probabilidad\n",
        "discreta de Poisson.\n",
        "Haciendo uso de una base de datos con la cual analizaron todos\n",
        "los casos de COVID-19 confirmados oficialmente en Ecuador entre el 13 de marzo y el 2 de abril de 2020. "
      ]
    },
    {
      "cell_type": "markdown",
      "metadata": {
        "id": "6hzQE67HK69i",
        "colab_type": "text"
      },
      "source": [
        "### Buscamos y cargamos un dataset\n",
        "\n",
        "Se utilizo un dataset basado en el articulo base encontrado, el cual nos muestra las cifras, desde el \"29-02-2020\" hasta el \"23-07-2020\", de la cantidad de personas contagiadas dentro del Ecuador:\n",
        "\n",
        "Dataset: https://covid19.who.int/region/amro/country/ec"
      ]
    },
    {
      "cell_type": "markdown",
      "metadata": {
        "id": "A84RMYqqLvuv",
        "colab_type": "text"
      },
      "source": [
        "### Desarrollamos el procesamiento de datos"
      ]
    },
    {
      "cell_type": "code",
      "metadata": {
        "id": "vJb-_3X2677c",
        "colab_type": "code",
        "colab": {
          "base_uri": "https://localhost:8080/",
          "height": 34
        },
        "outputId": "a4794ffe-985d-4ade-bdc7-7bb25db1a99f"
      },
      "source": [
        "#Importamos todas las librerias que utilizaremos en el programa\n",
        "import pandas as pd\n",
        "import numpy as np\n",
        "import matplotlib.pyplot as plt\n",
        "import csv\n",
        "import math\n",
        "import keras\n",
        "from timeit import timeit\n",
        "from sklearn.cluster import KMeans\n",
        "from sklearn.preprocessing import OneHotEncoder, StandardScaler\n",
        "from sklearn.compose import make_column_transformer, ColumnTransformer\n",
        "from sklearn import metrics\n",
        "from sklearn.decomposition import PCA\n",
        "from scipy.spatial.distance import cdist\n",
        "from timeit import default_timer\n",
        "from keras.layers import Dense\n",
        "from keras.models import Sequential\n",
        "from sklearn.model_selection import train_test_split\n",
        "from mpl_toolkits.mplot3d import Axes3D\n",
        "from sklearn import datasets\n",
        "from sklearn.cluster import KMeans\n"
      ],
      "execution_count": 1,
      "outputs": [
        {
          "output_type": "stream",
          "text": [
            "Using TensorFlow backend.\n"
          ],
          "name": "stderr"
        }
      ]
    },
    {
      "cell_type": "code",
      "metadata": {
        "id": "gOAKrptW6-kQ",
        "colab_type": "code",
        "colab": {
          "base_uri": "https://localhost:8080/",
          "height": 316
        },
        "outputId": "f276eed5-a68d-4c09-82ee-9f87c25534fd"
      },
      "source": [
        "#Realizamos la carga del dataset, asignandole a cada columna sus respectivas etiquetas\n",
        "#dataset = \"2.COVID19_clasificacion.xlsx\"\n",
        "\n",
        "dataset = '2.COVID19_clasificacion.xlsx'\n",
        "col = ['Number','Age','Gender','Fever','Dyspnea','Nasal','Cough','PO2','CRP','Asthenia','Leukopenia','Exposicion_Covid19_paciente',\n",
        "       'High_risk_zone','Temperatura','Blood Test','PT-PCR','History','Label']\n",
        "df = pd.read_excel(dataset, names=col)\n",
        "df = df.iloc[1:]\n",
        "df.head()"
      ],
      "execution_count": 2,
      "outputs": [
        {
          "output_type": "execute_result",
          "data": {
            "text/html": [
              "<div>\n",
              "<style scoped>\n",
              "    .dataframe tbody tr th:only-of-type {\n",
              "        vertical-align: middle;\n",
              "    }\n",
              "\n",
              "    .dataframe tbody tr th {\n",
              "        vertical-align: top;\n",
              "    }\n",
              "\n",
              "    .dataframe thead th {\n",
              "        text-align: right;\n",
              "    }\n",
              "</style>\n",
              "<table border=\"1\" class=\"dataframe\">\n",
              "  <thead>\n",
              "    <tr style=\"text-align: right;\">\n",
              "      <th></th>\n",
              "      <th>Number</th>\n",
              "      <th>Age</th>\n",
              "      <th>Gender</th>\n",
              "      <th>Fever</th>\n",
              "      <th>Dyspnea</th>\n",
              "      <th>Nasal</th>\n",
              "      <th>Cough</th>\n",
              "      <th>PO2</th>\n",
              "      <th>CRP</th>\n",
              "      <th>Asthenia</th>\n",
              "      <th>Leukopenia</th>\n",
              "      <th>Exposicion_Covid19_paciente</th>\n",
              "      <th>High_risk_zone</th>\n",
              "      <th>Temperatura</th>\n",
              "      <th>Blood Test</th>\n",
              "      <th>PT-PCR</th>\n",
              "      <th>History</th>\n",
              "      <th>Label</th>\n",
              "    </tr>\n",
              "  </thead>\n",
              "  <tbody>\n",
              "    <tr>\n",
              "      <th>1</th>\n",
              "      <td>2</td>\n",
              "      <td>62</td>\n",
              "      <td>Male</td>\n",
              "      <td>Yes</td>\n",
              "      <td>*</td>\n",
              "      <td>Yes</td>\n",
              "      <td>Yes</td>\n",
              "      <td>97</td>\n",
              "      <td>0.75</td>\n",
              "      <td>Yes</td>\n",
              "      <td>*</td>\n",
              "      <td>*</td>\n",
              "      <td>*</td>\n",
              "      <td>*</td>\n",
              "      <td>*</td>\n",
              "      <td>*</td>\n",
              "      <td>*</td>\n",
              "      <td>COVID-19</td>\n",
              "    </tr>\n",
              "    <tr>\n",
              "      <th>2</th>\n",
              "      <td>3</td>\n",
              "      <td>57</td>\n",
              "      <td>Male</td>\n",
              "      <td>Yes</td>\n",
              "      <td>*</td>\n",
              "      <td>Yes</td>\n",
              "      <td>Yes</td>\n",
              "      <td>*</td>\n",
              "      <td>*</td>\n",
              "      <td>*</td>\n",
              "      <td>*</td>\n",
              "      <td>Yes</td>\n",
              "      <td>*</td>\n",
              "      <td>*</td>\n",
              "      <td>*</td>\n",
              "      <td>*</td>\n",
              "      <td>*</td>\n",
              "      <td>COVID-19</td>\n",
              "    </tr>\n",
              "    <tr>\n",
              "      <th>3</th>\n",
              "      <td>4</td>\n",
              "      <td>45</td>\n",
              "      <td>Male</td>\n",
              "      <td>Yes</td>\n",
              "      <td>*</td>\n",
              "      <td>Yes</td>\n",
              "      <td>Yes</td>\n",
              "      <td>*</td>\n",
              "      <td>*</td>\n",
              "      <td>*</td>\n",
              "      <td>Yes</td>\n",
              "      <td>Yes</td>\n",
              "      <td>*</td>\n",
              "      <td>*</td>\n",
              "      <td>*</td>\n",
              "      <td>*</td>\n",
              "      <td>*</td>\n",
              "      <td>COVID-19</td>\n",
              "    </tr>\n",
              "    <tr>\n",
              "      <th>4</th>\n",
              "      <td>5</td>\n",
              "      <td>63</td>\n",
              "      <td>Male</td>\n",
              "      <td>Yes</td>\n",
              "      <td>*</td>\n",
              "      <td>Yes</td>\n",
              "      <td>Yes</td>\n",
              "      <td>*</td>\n",
              "      <td>*</td>\n",
              "      <td>*</td>\n",
              "      <td>Yes</td>\n",
              "      <td>Yes</td>\n",
              "      <td>*</td>\n",
              "      <td>*</td>\n",
              "      <td>*</td>\n",
              "      <td>*</td>\n",
              "      <td>*</td>\n",
              "      <td>COVID-19</td>\n",
              "    </tr>\n",
              "    <tr>\n",
              "      <th>5</th>\n",
              "      <td>6</td>\n",
              "      <td>32</td>\n",
              "      <td>Female</td>\n",
              "      <td>Yes</td>\n",
              "      <td>Yes</td>\n",
              "      <td>*</td>\n",
              "      <td>Yes</td>\n",
              "      <td>*</td>\n",
              "      <td>*</td>\n",
              "      <td>*</td>\n",
              "      <td>Yes</td>\n",
              "      <td>No</td>\n",
              "      <td>*</td>\n",
              "      <td>*</td>\n",
              "      <td>*</td>\n",
              "      <td>*</td>\n",
              "      <td>*</td>\n",
              "      <td>COVID-19</td>\n",
              "    </tr>\n",
              "  </tbody>\n",
              "</table>\n",
              "</div>"
            ],
            "text/plain": [
              "   Number Age  Gender Fever  ... Blood Test PT-PCR History     Label\n",
              "1       2  62    Male   Yes  ...          *      *       *  COVID-19\n",
              "2       3  57    Male   Yes  ...          *      *       *  COVID-19\n",
              "3       4  45    Male   Yes  ...          *      *       *  COVID-19\n",
              "4       5  63    Male   Yes  ...          *      *       *  COVID-19\n",
              "5       6  32  Female   Yes  ...          *      *       *  COVID-19\n",
              "\n",
              "[5 rows x 18 columns]"
            ]
          },
          "metadata": {
            "tags": []
          },
          "execution_count": 2
        }
      ]
    },
    {
      "cell_type": "code",
      "metadata": {
        "id": "RpWdqYz5dIq3",
        "colab_type": "code",
        "colab": {
          "base_uri": "https://localhost:8080/",
          "height": 232
        },
        "outputId": "bfcaa54e-c602-49d6-8f03-95cf5aedf251"
      },
      "source": [
        "#Remplazamos los valores nulos, en este caso representados con un \" * \".Los sustituimos por \" -1 \".\n",
        "\n",
        "#Ademas asignamos constantes numericas a los valores aignados como \"Yes/No\",\n",
        "#los remplazamos por \"No=0\", \"Yes=1\". \n",
        "\n",
        "#Y, en este caso, remplazamos las las constantes \"Male/Female\" por: \"Male=0\", \"Female=1\".\n",
        "\n",
        "df['Age'] =df['Age'].replace(to_replace={'*':-1})\n",
        "df['Gender'] =df['Gender'].replace(to_replace={'*':-1})\n",
        "df['Dyspnea'] =df['Dyspnea'].replace(to_replace={'*':-1})\n",
        "df['Nasal'] =df['Nasal'].replace(to_replace={'*':-1})\n",
        "df['Fever'] =df['Fever'].replace(to_replace={'*':-1})\n",
        "df['PO2'] =df['PO2'].replace(to_replace={'*':-1})\n",
        "df['CRP'] =df['CRP'].replace(to_replace={'*':-1})\n",
        "df['Asthenia'] =df['Asthenia'].replace(to_replace={'*':-1})\n",
        "df['Leukopenia'] =df['Leukopenia'].replace(to_replace={'*':-1})\n",
        "df['Exposicion_Covid19_paciente'] =df['Exposicion_Covid19_paciente'].replace(to_replace={'*':-1})\n",
        "df['High_risk_zone'] =df['High_risk_zone'].replace(to_replace={'*':-1})\n",
        "df['Temperatura'] =df['Temperatura'].replace(to_replace={'*':-1})\n",
        "df['Blood Test'] =df['Blood Test'].replace(to_replace={'*':-1})\n",
        "df['PT-PCR'] =df['PT-PCR'].replace(to_replace={'*':-1})\n",
        "df['Cough'] =df['Cough'].replace(to_replace={'*':-1})\n",
        "\n",
        "df['Dyspnea'] =df['Dyspnea'].replace(to_replace={'Yes':1})\n",
        "df['Dyspnea'] =df['Dyspnea'].replace(to_replace={'No':0})\n",
        "\n",
        "df['Gender'] =df['Gender'].replace(to_replace={'Female':1})\n",
        "df['Gender'] =df['Gender'].replace(to_replace={'Male':0})\n",
        "\n",
        "df['Fever'] =df['Fever'].replace(to_replace={'Yes':1})\n",
        "df['Fever'] =df['Fever'].replace(to_replace={'No':0})\n",
        "\n",
        "df['Nasal'] =df['Nasal'].replace(to_replace={'Yes':1})\n",
        "df['Nasal'] =df['Nasal'].replace(to_replace={'No':0})\n",
        "\n",
        "df['Cough'] =df['Cough'].replace(to_replace={'Yes':1})\n",
        "df['Cough'] =df['Cough'].replace(to_replace={'No':0})\n",
        "\n",
        "df['Asthenia'] =df['Asthenia'].replace(to_replace={'Yes':1})\n",
        "df['Asthenia'] =df['Asthenia'].replace(to_replace={'No':0})\n",
        "\n",
        "df['Leukopenia'] =df['Leukopenia'].replace(to_replace={'Yes':1})\n",
        "\n",
        "df['Exposicion_Covid19_paciente'] =df['Exposicion_Covid19_paciente'].replace(to_replace={'Yes':1})\n",
        "df['Exposicion_Covid19_paciente'] =df['Exposicion_Covid19_paciente'].replace(to_replace={'No':0})\n",
        "\n",
        "df['High_risk_zone'] =df['High_risk_zone'].replace(to_replace={'Yes':1})\n",
        "\n",
        "df['Label'] =df['Label'].replace(to_replace={'COVID-19':1})\n",
        "df['Label'] =df['Label'].replace(to_replace={'Flu':0})\n",
        "\n",
        "\n",
        "\n",
        "df.head()"
      ],
      "execution_count": 3,
      "outputs": [
        {
          "output_type": "execute_result",
          "data": {
            "text/html": [
              "<div>\n",
              "<style scoped>\n",
              "    .dataframe tbody tr th:only-of-type {\n",
              "        vertical-align: middle;\n",
              "    }\n",
              "\n",
              "    .dataframe tbody tr th {\n",
              "        vertical-align: top;\n",
              "    }\n",
              "\n",
              "    .dataframe thead th {\n",
              "        text-align: right;\n",
              "    }\n",
              "</style>\n",
              "<table border=\"1\" class=\"dataframe\">\n",
              "  <thead>\n",
              "    <tr style=\"text-align: right;\">\n",
              "      <th></th>\n",
              "      <th>Number</th>\n",
              "      <th>Age</th>\n",
              "      <th>Gender</th>\n",
              "      <th>Fever</th>\n",
              "      <th>Dyspnea</th>\n",
              "      <th>Nasal</th>\n",
              "      <th>Cough</th>\n",
              "      <th>PO2</th>\n",
              "      <th>CRP</th>\n",
              "      <th>Asthenia</th>\n",
              "      <th>Leukopenia</th>\n",
              "      <th>Exposicion_Covid19_paciente</th>\n",
              "      <th>High_risk_zone</th>\n",
              "      <th>Temperatura</th>\n",
              "      <th>Blood Test</th>\n",
              "      <th>PT-PCR</th>\n",
              "      <th>History</th>\n",
              "      <th>Label</th>\n",
              "    </tr>\n",
              "  </thead>\n",
              "  <tbody>\n",
              "    <tr>\n",
              "      <th>1</th>\n",
              "      <td>2</td>\n",
              "      <td>62.0</td>\n",
              "      <td>0</td>\n",
              "      <td>1</td>\n",
              "      <td>-1</td>\n",
              "      <td>1</td>\n",
              "      <td>1</td>\n",
              "      <td>97.0</td>\n",
              "      <td>0.75</td>\n",
              "      <td>1</td>\n",
              "      <td>-1</td>\n",
              "      <td>-1</td>\n",
              "      <td>-1</td>\n",
              "      <td>-1.0</td>\n",
              "      <td>-1</td>\n",
              "      <td>-1</td>\n",
              "      <td>*</td>\n",
              "      <td>1</td>\n",
              "    </tr>\n",
              "    <tr>\n",
              "      <th>2</th>\n",
              "      <td>3</td>\n",
              "      <td>57.0</td>\n",
              "      <td>0</td>\n",
              "      <td>1</td>\n",
              "      <td>-1</td>\n",
              "      <td>1</td>\n",
              "      <td>1</td>\n",
              "      <td>-1.0</td>\n",
              "      <td>-1.00</td>\n",
              "      <td>-1</td>\n",
              "      <td>-1</td>\n",
              "      <td>1</td>\n",
              "      <td>-1</td>\n",
              "      <td>-1.0</td>\n",
              "      <td>-1</td>\n",
              "      <td>-1</td>\n",
              "      <td>*</td>\n",
              "      <td>1</td>\n",
              "    </tr>\n",
              "    <tr>\n",
              "      <th>3</th>\n",
              "      <td>4</td>\n",
              "      <td>45.0</td>\n",
              "      <td>0</td>\n",
              "      <td>1</td>\n",
              "      <td>-1</td>\n",
              "      <td>1</td>\n",
              "      <td>1</td>\n",
              "      <td>-1.0</td>\n",
              "      <td>-1.00</td>\n",
              "      <td>-1</td>\n",
              "      <td>1</td>\n",
              "      <td>1</td>\n",
              "      <td>-1</td>\n",
              "      <td>-1.0</td>\n",
              "      <td>-1</td>\n",
              "      <td>-1</td>\n",
              "      <td>*</td>\n",
              "      <td>1</td>\n",
              "    </tr>\n",
              "    <tr>\n",
              "      <th>4</th>\n",
              "      <td>5</td>\n",
              "      <td>63.0</td>\n",
              "      <td>0</td>\n",
              "      <td>1</td>\n",
              "      <td>-1</td>\n",
              "      <td>1</td>\n",
              "      <td>1</td>\n",
              "      <td>-1.0</td>\n",
              "      <td>-1.00</td>\n",
              "      <td>-1</td>\n",
              "      <td>1</td>\n",
              "      <td>1</td>\n",
              "      <td>-1</td>\n",
              "      <td>-1.0</td>\n",
              "      <td>-1</td>\n",
              "      <td>-1</td>\n",
              "      <td>*</td>\n",
              "      <td>1</td>\n",
              "    </tr>\n",
              "    <tr>\n",
              "      <th>5</th>\n",
              "      <td>6</td>\n",
              "      <td>32.0</td>\n",
              "      <td>1</td>\n",
              "      <td>1</td>\n",
              "      <td>1</td>\n",
              "      <td>-1</td>\n",
              "      <td>1</td>\n",
              "      <td>-1.0</td>\n",
              "      <td>-1.00</td>\n",
              "      <td>-1</td>\n",
              "      <td>1</td>\n",
              "      <td>0</td>\n",
              "      <td>-1</td>\n",
              "      <td>-1.0</td>\n",
              "      <td>-1</td>\n",
              "      <td>-1</td>\n",
              "      <td>*</td>\n",
              "      <td>1</td>\n",
              "    </tr>\n",
              "  </tbody>\n",
              "</table>\n",
              "</div>"
            ],
            "text/plain": [
              "   Number   Age  Gender  Fever  ...  Blood Test  PT-PCR  History  Label\n",
              "1       2  62.0       0      1  ...          -1      -1        *      1\n",
              "2       3  57.0       0      1  ...          -1      -1        *      1\n",
              "3       4  45.0       0      1  ...          -1      -1        *      1\n",
              "4       5  63.0       0      1  ...          -1      -1        *      1\n",
              "5       6  32.0       1      1  ...          -1      -1        *      1\n",
              "\n",
              "[5 rows x 18 columns]"
            ]
          },
          "metadata": {
            "tags": []
          },
          "execution_count": 3
        }
      ]
    },
    {
      "cell_type": "code",
      "metadata": {
        "id": "1Tu_QLJidBjX",
        "colab_type": "code",
        "colab": {
          "base_uri": "https://localhost:8080/",
          "height": 215
        },
        "outputId": "aa8cd1b1-6df0-433d-bdca-c81a9e94de61"
      },
      "source": [
        "#Eliminamos las columnas que producen ruido dentro de nuestro analisis y no aportana a nuestra investigacion.\n",
        "df=df.drop(['History','Number','PT-PCR','Blood Test'], axis=1)\n",
        "df.head()"
      ],
      "execution_count": 4,
      "outputs": [
        {
          "output_type": "execute_result",
          "data": {
            "text/html": [
              "<div>\n",
              "<style scoped>\n",
              "    .dataframe tbody tr th:only-of-type {\n",
              "        vertical-align: middle;\n",
              "    }\n",
              "\n",
              "    .dataframe tbody tr th {\n",
              "        vertical-align: top;\n",
              "    }\n",
              "\n",
              "    .dataframe thead th {\n",
              "        text-align: right;\n",
              "    }\n",
              "</style>\n",
              "<table border=\"1\" class=\"dataframe\">\n",
              "  <thead>\n",
              "    <tr style=\"text-align: right;\">\n",
              "      <th></th>\n",
              "      <th>Age</th>\n",
              "      <th>Gender</th>\n",
              "      <th>Fever</th>\n",
              "      <th>Dyspnea</th>\n",
              "      <th>Nasal</th>\n",
              "      <th>Cough</th>\n",
              "      <th>PO2</th>\n",
              "      <th>CRP</th>\n",
              "      <th>Asthenia</th>\n",
              "      <th>Leukopenia</th>\n",
              "      <th>Exposicion_Covid19_paciente</th>\n",
              "      <th>High_risk_zone</th>\n",
              "      <th>Temperatura</th>\n",
              "      <th>Label</th>\n",
              "    </tr>\n",
              "  </thead>\n",
              "  <tbody>\n",
              "    <tr>\n",
              "      <th>1</th>\n",
              "      <td>62.0</td>\n",
              "      <td>0</td>\n",
              "      <td>1</td>\n",
              "      <td>-1</td>\n",
              "      <td>1</td>\n",
              "      <td>1</td>\n",
              "      <td>97.0</td>\n",
              "      <td>0.75</td>\n",
              "      <td>1</td>\n",
              "      <td>-1</td>\n",
              "      <td>-1</td>\n",
              "      <td>-1</td>\n",
              "      <td>-1.0</td>\n",
              "      <td>1</td>\n",
              "    </tr>\n",
              "    <tr>\n",
              "      <th>2</th>\n",
              "      <td>57.0</td>\n",
              "      <td>0</td>\n",
              "      <td>1</td>\n",
              "      <td>-1</td>\n",
              "      <td>1</td>\n",
              "      <td>1</td>\n",
              "      <td>-1.0</td>\n",
              "      <td>-1.00</td>\n",
              "      <td>-1</td>\n",
              "      <td>-1</td>\n",
              "      <td>1</td>\n",
              "      <td>-1</td>\n",
              "      <td>-1.0</td>\n",
              "      <td>1</td>\n",
              "    </tr>\n",
              "    <tr>\n",
              "      <th>3</th>\n",
              "      <td>45.0</td>\n",
              "      <td>0</td>\n",
              "      <td>1</td>\n",
              "      <td>-1</td>\n",
              "      <td>1</td>\n",
              "      <td>1</td>\n",
              "      <td>-1.0</td>\n",
              "      <td>-1.00</td>\n",
              "      <td>-1</td>\n",
              "      <td>1</td>\n",
              "      <td>1</td>\n",
              "      <td>-1</td>\n",
              "      <td>-1.0</td>\n",
              "      <td>1</td>\n",
              "    </tr>\n",
              "    <tr>\n",
              "      <th>4</th>\n",
              "      <td>63.0</td>\n",
              "      <td>0</td>\n",
              "      <td>1</td>\n",
              "      <td>-1</td>\n",
              "      <td>1</td>\n",
              "      <td>1</td>\n",
              "      <td>-1.0</td>\n",
              "      <td>-1.00</td>\n",
              "      <td>-1</td>\n",
              "      <td>1</td>\n",
              "      <td>1</td>\n",
              "      <td>-1</td>\n",
              "      <td>-1.0</td>\n",
              "      <td>1</td>\n",
              "    </tr>\n",
              "    <tr>\n",
              "      <th>5</th>\n",
              "      <td>32.0</td>\n",
              "      <td>1</td>\n",
              "      <td>1</td>\n",
              "      <td>1</td>\n",
              "      <td>-1</td>\n",
              "      <td>1</td>\n",
              "      <td>-1.0</td>\n",
              "      <td>-1.00</td>\n",
              "      <td>-1</td>\n",
              "      <td>1</td>\n",
              "      <td>0</td>\n",
              "      <td>-1</td>\n",
              "      <td>-1.0</td>\n",
              "      <td>1</td>\n",
              "    </tr>\n",
              "  </tbody>\n",
              "</table>\n",
              "</div>"
            ],
            "text/plain": [
              "    Age  Gender  Fever  ...  High_risk_zone  Temperatura  Label\n",
              "1  62.0       0      1  ...              -1         -1.0      1\n",
              "2  57.0       0      1  ...              -1         -1.0      1\n",
              "3  45.0       0      1  ...              -1         -1.0      1\n",
              "4  63.0       0      1  ...              -1         -1.0      1\n",
              "5  32.0       1      1  ...              -1         -1.0      1\n",
              "\n",
              "[5 rows x 14 columns]"
            ]
          },
          "metadata": {
            "tags": []
          },
          "execution_count": 4
        }
      ]
    },
    {
      "cell_type": "code",
      "metadata": {
        "id": "i1piawVldvbB",
        "colab_type": "code",
        "colab": {
          "base_uri": "https://localhost:8080/",
          "height": 269
        },
        "outputId": "11ff4d70-e2c5-47dc-dcda-80a0afb802bd"
      },
      "source": [
        "#Seleccionamos las variables independientes y las separamos de la independiente, de esta forma:\n",
        "\n",
        "Xsubset = df[['Age','Gender','Fever','Dyspnea','Nasal','Cough','PO2','CRP','Asthenia','Leukopenia','Exposicion_Covid19_paciente',\n",
        "       'High_risk_zone','Temperatura']]\n",
        "\n",
        "y = df.Label.values\n",
        "print(Xsubset)\n",
        "type(Xsubset)"
      ],
      "execution_count": 5,
      "outputs": [
        {
          "output_type": "stream",
          "text": [
            "      Age  Gender  ...  High_risk_zone  Temperatura\n",
            "1    62.0       0  ...              -1         -1.0\n",
            "2    57.0       0  ...              -1         -1.0\n",
            "3    45.0       0  ...              -1         -1.0\n",
            "4    63.0       0  ...              -1         -1.0\n",
            "5    32.0       1  ...              -1         -1.0\n",
            "..    ...     ...  ...             ...          ...\n",
            "125  62.0       1  ...               1         38.3\n",
            "126  63.0       0  ...               1         38.5\n",
            "127  63.0       1  ...               1         39.3\n",
            "128  40.0       1  ...               1         -1.0\n",
            "129  78.0       1  ...               1         36.7\n",
            "\n",
            "[129 rows x 13 columns]\n"
          ],
          "name": "stdout"
        },
        {
          "output_type": "execute_result",
          "data": {
            "text/plain": [
              "pandas.core.frame.DataFrame"
            ]
          },
          "metadata": {
            "tags": []
          },
          "execution_count": 5
        }
      ]
    },
    {
      "cell_type": "code",
      "metadata": {
        "id": "TDvQz1pJefVK",
        "colab_type": "code",
        "colab": {
          "base_uri": "https://localhost:8080/",
          "height": 222
        },
        "outputId": "c50c0b96-4d41-425c-d4d9-7d5ac272ef47"
      },
      "source": [
        "#Ahora, se separan las variables \"Ordinales\" de las \"Nominales\". Para ello hacemos uso de\n",
        "# el metod StandardScaler para las nominales y el metodo OneHotEncoder para las ordinales.\n",
        "preprocesador1 = make_column_transformer(\n",
        "    (StandardScaler(),['Age','PO2','CRP','Temperatura']),\n",
        "    (OneHotEncoder(),['Gender','Fever','Dyspnea','Nasal','Cough','Asthenia','Leukopenia','Exposicion_Covid19_paciente','High_risk_zone']))\n",
        "\n",
        "X = preprocesador1.fit_transform(Xsubset)\n",
        "print(X.shape[1])\n",
        "print(X.shape)\n",
        "\n",
        "categorical_features = ['Gender','Fever','Dyspnea','Nasal','Cough','Asthenia','Leukopenia','Exposicion_Covid19_paciente','High_risk_zone']\n",
        "cnamesDataset1 = ['Age','PO2','CRP','Temperatura']\n",
        "cnamesDataset2 = preprocesador1.transformers_[1][1].get_feature_names(categorical_features)\n",
        "\n",
        "cnamesDataset1.extend(cnamesDataset2)\n",
        "print(cnamesDataset1)\n",
        "\n",
        "DatasetPreprocesado = pd.DataFrame(data=X,columns=cnamesDataset1)\n",
        "\n",
        "\n",
        "print(DatasetPreprocesado.head())\n",
        "\n",
        "\n",
        "#En esta parte generamos un documento \".csv\" para poder registrar y observar como se distribuyen los datos ya organizados\n",
        "DatasetPreprocesado.to_csv(\"DatasetPreprocesados.csv\", sep=\";\",index = False) "
      ],
      "execution_count": 6,
      "outputs": [
        {
          "output_type": "stream",
          "text": [
            "29\n",
            "(129, 29)\n",
            "['Age', 'PO2', 'CRP', 'Temperatura', 'Gender_-1', 'Gender_0', 'Gender_1', 'Fever_-1', 'Fever_0', 'Fever_1', 'Dyspnea_-1', 'Dyspnea_0', 'Dyspnea_1', 'Nasal_-1', 'Nasal_0', 'Nasal_1', 'Cough_-1', 'Cough_0', 'Cough_1', 'Asthenia_-1', 'Asthenia_0', 'Asthenia_1', 'Leukopenia_-1', 'Leukopenia_1', 'Exposicion_Covid19_paciente_-1', 'Exposicion_Covid19_paciente_0', 'Exposicion_Covid19_paciente_1', 'High_risk_zone_-1', 'High_risk_zone_1']\n",
            "        Age       PO2  ...  High_risk_zone_-1  High_risk_zone_1\n",
            "0  0.173531  1.857513  ...                1.0               0.0\n",
            "1 -0.082128 -0.455209  ...                1.0               0.0\n",
            "2 -0.695709 -0.455209  ...                1.0               0.0\n",
            "3  0.224663 -0.455209  ...                1.0               0.0\n",
            "4 -1.360422 -0.455209  ...                1.0               0.0\n",
            "\n",
            "[5 rows x 29 columns]\n"
          ],
          "name": "stdout"
        }
      ]
    },
    {
      "cell_type": "markdown",
      "metadata": {
        "id": "VVDXtfyDgR20",
        "colab_type": "text"
      },
      "source": [
        "### Realizamos un Split con 20% en Test"
      ]
    },
    {
      "cell_type": "code",
      "metadata": {
        "id": "cLnwmAqZrsJI",
        "colab_type": "code",
        "colab": {}
      },
      "source": [
        "#Train: entrenaremos nuestro modelo en este conjunto de datos.\n",
        "#Test: utilizaremos este subconjunto para hacer predicciones reales usando un modelo entrenado.\n",
        "#Ahora preparamos el perceptron, importando las neuronas simples y el modelo secuencial.\n",
        "#Division train y test, con un split en el test del 20%:\n",
        "\n",
        "X_train, X_test, y_train, y_test = train_test_split(X, y, test_size=.2, random_state=42)\n"
      ],
      "execution_count": 7,
      "outputs": []
    },
    {
      "cell_type": "code",
      "metadata": {
        "id": "lOfDJwWFr6Dr",
        "colab_type": "code",
        "colab": {
          "base_uri": "https://localhost:8080/",
          "height": 34
        },
        "outputId": "b4e6150d-2a97-40c7-b497-ea3e8ece131a"
      },
      "source": [
        "X_train.shape[1]"
      ],
      "execution_count": 8,
      "outputs": [
        {
          "output_type": "execute_result",
          "data": {
            "text/plain": [
              "29"
            ]
          },
          "metadata": {
            "tags": []
          },
          "execution_count": 8
        }
      ]
    },
    {
      "cell_type": "code",
      "metadata": {
        "id": "HvPa5jJEswqN",
        "colab_type": "code",
        "colab": {
          "base_uri": "https://localhost:8080/",
          "height": 34
        },
        "outputId": "0205018c-ac19-420b-a81e-eb430ab57658"
      },
      "source": [
        "print(X_train.shape, X_test.shape, y_train.shape, y_test.shape)"
      ],
      "execution_count": 9,
      "outputs": [
        {
          "output_type": "stream",
          "text": [
            "(103, 29) (26, 29) (103,) (26,)\n"
          ],
          "name": "stdout"
        }
      ]
    },
    {
      "cell_type": "markdown",
      "metadata": {
        "id": "F1DWc4jchZwZ",
        "colab_type": "text"
      },
      "source": [
        "###Diseñamos un modelo de Machine Learning."
      ]
    },
    {
      "cell_type": "code",
      "metadata": {
        "id": "NEv-TxVw3-YT",
        "colab_type": "code",
        "colab": {}
      },
      "source": [
        "#FUNCIONES PARA GuARDAR Y CARGAR CUALQUIER MODELO\n",
        "def guardarRNN(model,nombreArchivoModelo,nombreArchivoPesos):\n",
        "    print(\"Red Neuronal Grabada en Archivo\")   \n",
        "    \n",
        "def cargarRNN(nombreArchivoModelo,nombreArchivoPesos):\n",
        "   return model"
      ],
      "execution_count": 10,
      "outputs": []
    },
    {
      "cell_type": "code",
      "metadata": {
        "id": "JsXwiAKv3Wy1",
        "colab_type": "code",
        "colab": {
          "base_uri": "https://localhost:8080/",
          "height": 403
        },
        "outputId": "7651b57f-9715-48b0-8652-686bd3c51246"
      },
      "source": [
        "#Construcción del Modelo o Arquitectura de Redes Neoronales\n",
        "model = Sequential()\n",
        "\n",
        "#La primera capa Dense recibe el numero de variables, que es la segunda dimensión de la matriz X, esto es X_train.shape[1]\n",
        "#La primera capa tiene 32 neuronas. La función de activación es la función rectificadora.\n",
        "model.add(Dense(32, input_shape=(X_train.shape[1],), activation='relu'))\n",
        "#La segunda capa tiene 64 neuronas. La función de activación es la función rectificadora.\n",
        "model.add(Dense(64, activation='relu'))\n",
        "\n",
        "#La capa de salida tiene 1 neurona. La capa de salida debe tener la misma dimensión como de cantidad de salidas queremos,\n",
        "#por ejemplo, en este caso la salida \"Covid-19_Label\" solo requiere 0 y 1. Puesto que 0 o 1 ocupan solo un valor dentro de cada dato,\n",
        "#entonces 1 neurona es suficiente. La función de activación es sigmoide para clasificación por probabilidad.\n",
        "model.add(Dense(1, activation='sigmoid'))\n",
        "\n",
        "#Como tenemos dos posibles salidas \"0 o 1\", vamos a escoger que el error lo trate como una clasificación binaria, \n",
        "#el optimizador será nuestra función derivada que nos ayudará a determinar hacia donde mover los pesos.\n",
        "#ADADELTA: An Adaptive Learning Rate Method\n",
        "model.compile(loss='binary_crossentropy', optimizer='adadelta', metrics=['acc']) \n",
        "\n",
        "#imprimir arquitectura de la red\n",
        "model.summary()\n",
        "\n",
        "#Entrenamiento: \n",
        "\n",
        "#Entrenaremos por 100 epochs, el batch_size es un argumento importante, porque representa cada cuántos datos va a actualizar\n",
        "#los pesos. Este es el método del gradiente descendiente estocástico que hace el proceso más eficiente y preciso.\n",
        "model.fit(X_train, y_train, epochs=100, batch_size=64, verbose=0)\n",
        "score = model.evaluate(X_train, y_train, verbose=0)\n",
        "\n",
        "\n",
        "inicio  = default_timer()\n",
        "\n",
        "print('Resultado en Train:')\n",
        "print(\"%s: %.2f%%\" % (model.metrics_names[1], score[1]*100))\n",
        "\n",
        "fin = default_timer()\n",
        "print ('Timepo de ejecucion del entrenamiento: ', fin - inicio)\n",
        "\n",
        "\n",
        "#Fase de Testing\n",
        "score = model.evaluate(X_test, y_test, verbose=0)\n",
        "\n",
        "inicio  = default_timer()\n",
        "\n",
        "print('Resultado en Test:')\n",
        "print(\"%s: %.2f%%\" % (model.metrics_names[1], score[1]*100))\n",
        "\n",
        "fin = default_timer()\n",
        "print ('Timepo de ejecucion de la prueba: ', fin - inicio)\n",
        "\n",
        "#Guardar la arquitectura de la red en un archivo \n",
        "\n",
        "nombreArchivoModelo='arquitectura_prueba'\n",
        "nombreArchivoPesos='pesos_prueba'\n",
        "guardarRNN(model,nombreArchivoModelo,nombreArchivoPesos)\n",
        "\n",
        "inicio  = default_timer()\n",
        "print(\"%s: %.2f%%\" % (model.metrics_names[1], score[1]*100))\n",
        "\n",
        "fin = default_timer()\n",
        "print ('Timepo de ejecucion Completo: ', fin - inicio)"
      ],
      "execution_count": 11,
      "outputs": [
        {
          "output_type": "stream",
          "text": [
            "Model: \"sequential_1\"\n",
            "_________________________________________________________________\n",
            "Layer (type)                 Output Shape              Param #   \n",
            "=================================================================\n",
            "dense_1 (Dense)              (None, 32)                960       \n",
            "_________________________________________________________________\n",
            "dense_2 (Dense)              (None, 64)                2112      \n",
            "_________________________________________________________________\n",
            "dense_3 (Dense)              (None, 1)                 65        \n",
            "=================================================================\n",
            "Total params: 3,137\n",
            "Trainable params: 3,137\n",
            "Non-trainable params: 0\n",
            "_________________________________________________________________\n",
            "Resultado en Train:\n",
            "acc: 100.00%\n",
            "Timepo de ejecucion del entrenamiento:  0.00036119199998552176\n",
            "Resultado en Test:\n",
            "acc: 100.00%\n",
            "Timepo de ejecucion de la prueba:  0.00028796899999861125\n",
            "Red Neuronal Grabada en Archivo\n",
            "acc: 100.00%\n",
            "Timepo de ejecucion Completo:  0.00011729099998092352\n"
          ],
          "name": "stdout"
        }
      ]
    },
    {
      "cell_type": "code",
      "metadata": {
        "id": "DtW1kh-MRm4i",
        "colab_type": "code",
        "colab": {
          "base_uri": "https://localhost:8080/",
          "height": 269
        },
        "outputId": "18742839-6571-43dc-888e-dd8350dbfa4f"
      },
      "source": [
        "#Comprobamos el tipo de cada una de las variables\n",
        "df.dtypes"
      ],
      "execution_count": 12,
      "outputs": [
        {
          "output_type": "execute_result",
          "data": {
            "text/plain": [
              "Age                            float64\n",
              "Gender                           int64\n",
              "Fever                            int64\n",
              "Dyspnea                          int64\n",
              "Nasal                            int64\n",
              "Cough                            int64\n",
              "PO2                            float64\n",
              "CRP                            float64\n",
              "Asthenia                         int64\n",
              "Leukopenia                       int64\n",
              "Exposicion_Covid19_paciente      int64\n",
              "High_risk_zone                   int64\n",
              "Temperatura                    float64\n",
              "Label                            int64\n",
              "dtype: object"
            ]
          },
          "metadata": {
            "tags": []
          },
          "execution_count": 12
        }
      ]
    },
    {
      "cell_type": "code",
      "metadata": {
        "id": "5omJndEAOzxB",
        "colab_type": "code",
        "colab": {
          "base_uri": "https://localhost:8080/",
          "height": 67
        },
        "outputId": "6484e887-780a-41fb-9d03-1b6dd6715905"
      },
      "source": [
        "#Predicciones con nuevos datos\n",
        "\n",
        "#La siguiente función tomará los datos de entrada, los va a integrar a una dataframe, los va a preprocesar, y \n",
        "#retornará una predicción con la salida \"0\" o \"1\", es decir, \"no tiene covid-19\" o \"tiene covid-19\"\n",
        "def predict(Age=57.0, Gender=1, Fever=1, Dyspnea=1, Nasal=1, Cough=1, PO2=61.3, CRP=0.75, Asthenia=1, Leukopenia=1,\n",
        "            Exposicion_Covid19_paciente=1, High_risk_zone=1, Temperatura=-1.0):\n",
        "    cnames = ['Age','Gender','Fever','Dyspnea','Nasal','Cough','PO2','CRP','Asthenia','Leukopenia','Exposicion_Covid19_paciente','High_risk_zone','Temperatura']\n",
        "    data = [[Age,Gender,Fever,Dyspnea,Nasal,Cough,PO2,CRP,Asthenia,Leukopenia,Exposicion_Covid19_paciente,High_risk_zone,Temperatura]]\n",
        "    my_X = pd.DataFrame(data=data, columns=cnames)\n",
        "    my_X = preprocesador1.transform(my_X)\n",
        "    return model.predict_classes(my_X)\n",
        "\n",
        "inicio  = default_timer()\n",
        "\n",
        "\n",
        "\n",
        "\n",
        "print('Predicción:',predict(Age=57.0, Gender=1, Fever=1, Dyspnea=1, Nasal=1, Cough=1, PO2=61.3, CRP=0.75, Asthenia=1, \n",
        "                            Leukopenia=1, Exposicion_Covid19_paciente=1, High_risk_zone=1, Temperatura=-1.0))\n",
        "\n",
        "print('Predicción:',predict(Age=18.0, Gender=0, Fever=1, Dyspnea=1, Nasal=0, Cough=1, PO2=32.0, CRP=-1.0, Asthenia=1, \n",
        "                            Leukopenia=1, Exposicion_Covid19_paciente=1, High_risk_zone=-1.0, Temperatura=36.0))\n",
        "fin = default_timer()\n",
        "print ('Timepo de ejecucion: ', fin - inicio)"
      ],
      "execution_count": 13,
      "outputs": [
        {
          "output_type": "stream",
          "text": [
            "Predicción: [[1]]\n",
            "Predicción: [[1]]\n",
            "Timepo de ejecucion:  0.069646965000004\n"
          ],
          "name": "stdout"
        }
      ]
    },
    {
      "cell_type": "markdown",
      "metadata": {
        "id": "BtxrsgIvjb9-",
        "colab_type": "text"
      },
      "source": [
        "## Metodo Propuesto"
      ]
    },
    {
      "cell_type": "code",
      "metadata": {
        "id": "agQu8D3Y7hvE",
        "colab_type": "code",
        "colab": {}
      },
      "source": [
        "#Elbow Method\n",
        "x1=[]\n",
        "x2=[]\n",
        "\n",
        "with open('DatasetPreprocesado.csv', 'r') as csvfile:\n",
        "    plots= csv.reader(csvfile, delimiter=',')\n",
        "    for row in plots:\n",
        "        x1.append(int(row[0]))\n",
        "        x2.append(int(row[1]))"
      ],
      "execution_count": 14,
      "outputs": []
    },
    {
      "cell_type": "code",
      "metadata": {
        "id": "cwKwpolp7krK",
        "colab_type": "code",
        "colab": {}
      },
      "source": [
        "# k means determine k\n",
        "distortions = []\n",
        "K = range(1,10)\n",
        "for k in K:\n",
        "    kmeanModel = KMeans(n_clusters=k).fit(X)\n",
        "    kmeanModel.fit(X)\n",
        "    distortions.append(sum(np.min(cdist(X, kmeanModel.cluster_centers_, 'euclidean'), axis=1)) / X.shape[0])"
      ],
      "execution_count": 15,
      "outputs": []
    },
    {
      "cell_type": "code",
      "metadata": {
        "id": "EPBp1iM97sId",
        "colab_type": "code",
        "colab": {
          "base_uri": "https://localhost:8080/",
          "height": 312
        },
        "outputId": "cba099d8-9bc9-45f0-879a-cce1a8a521d9"
      },
      "source": [
        "# Plot the elbow\n",
        "plt.plot(K, distortions, 'bx-')\n",
        "plt.xlabel('k')\n",
        "plt.ylabel('Distortion')\n",
        "plt.title('The Elbow Method showing the optimal k')\n",
        "inicio  = default_timer()\n",
        "\n",
        "plt.show()\n",
        "fin = default_timer()\n",
        "print ('Tiempo de ejecucion: ', fin - inicio)"
      ],
      "execution_count": 16,
      "outputs": [
        {
          "output_type": "display_data",
          "data": {
            "image/png": "[encoded data removed]",
            "text/plain": [
              "<Figure size 432x288 with 1 Axes>"
            ]
          },
          "metadata": {
            "tags": [],
            "needs_background": "light"
          }
        },
        {
          "output_type": "stream",
          "text": [
            "Tiempo de ejecucion:  0.17959383000001594\n"
          ],
          "name": "stdout"
        }
      ]
    },
    {
      "cell_type": "code",
      "metadata": {
        "id": "ppR1ZNcf73pf",
        "colab_type": "code",
        "colab": {}
      },
      "source": [
        "#Estandarizacion de los datos\n",
        "x=df\n",
        "x = StandardScaler().fit_transform(x)"
      ],
      "execution_count": 17,
      "outputs": []
    },
    {
      "cell_type": "code",
      "metadata": {
        "id": "P25_diUk75WT",
        "colab_type": "code",
        "colab": {}
      },
      "source": [
        "#PCA con todos los datos\n",
        "pca = PCA()\n",
        "principalComponents = pca.fit_transform(x)\n",
        "principalComponents\n",
        "\n",
        "num_components=principalComponents.shape[1]\n",
        "num_components\n",
        "explained_variance_ratio_=pca.explained_variance_ratio_\n",
        "explained_variance_ratio_\n",
        "#print('Varianzas:')\n",
        "#print(np.around(explained_variance_ratio_, decimals=3))\n",
        "\n",
        "a = range(1,num_components+1)\n",
        "num_pc= a[::1]"
      ],
      "execution_count": 18,
      "outputs": []
    },
    {
      "cell_type": "code",
      "metadata": {
        "id": "rJ1pgKs18D2j",
        "colab_type": "code",
        "colab": {
          "base_uri": "https://localhost:8080/",
          "height": 312
        },
        "outputId": "2a92d05a-4926-45c7-b8ab-663d7b6ffb61"
      },
      "source": [
        "#Visualizar en 2D\n",
        "\n",
        "\n",
        "plt.plot(num_pc, explained_variance_ratio_)\n",
        "plt.plot(num_pc, explained_variance_ratio_, color='blue', linestyle='dashed', linewidth = 3, \n",
        "         marker='o', markerfacecolor='blue', markersize=12)\n",
        "plt.ylim((0,1))\n",
        "plt.title('Analysis #PC')\n",
        "plt.xlabel('#Principal Components')\n",
        "plt.ylabel('Variance')\n",
        "\n",
        "inicio  = default_timer()\n",
        "\n",
        "plt.show()\n",
        "fin = default_timer()\n",
        "print ('Timepo de ejecucion: ', fin - inicio)\n"
      ],
      "execution_count": 19,
      "outputs": [
        {
          "output_type": "display_data",
          "data": {
            "image/png": "[encoded data removed]",
            "text/plain": [
              "<Figure size 432x288 with 1 Axes>"
            ]
          },
          "metadata": {
            "tags": [],
            "needs_background": "light"
          }
        },
        {
          "output_type": "stream",
          "text": [
            "Timepo de ejecucion:  0.16356663000001959\n"
          ],
          "name": "stdout"
        }
      ]
    },
    {
      "cell_type": "code",
      "metadata": {
        "id": "FGcLKi9C8K6V",
        "colab_type": "code",
        "colab": {
          "base_uri": "https://localhost:8080/",
          "height": 50
        },
        "outputId": "b7923b26-0cb8-4dee-bc77-188359efb098"
      },
      "source": [
        "#Reduccion de componentes con PCA\n",
        "num_components=3\n",
        "pca = PCA(num_components)\n",
        "principalComponents = pca.fit_transform(x)\n",
        "\n",
        "explained_variance_ratio_=pca.explained_variance_ratio_\n",
        "explained_variance_ratio_\n",
        "print('Varianzas:')\n",
        "print(np.around(explained_variance_ratio_, decimals=3))\n",
        "a = range(num_components)\n",
        "num_pc= a[::1]\n",
        "\n",
        "principalDf = pd.DataFrame(data = principalComponents\n",
        "             , columns = num_pc)\n",
        "\n",
        "principalDf=round(principalDf, 2)\n",
        "#print(principalDf)\n",
        "#Explicación de la varianza\n",
        "explained_variance_ratio_\n",
        "a = range(num_components)\n",
        "num_pc= np.linspace(1,num_components,num_components)"
      ],
      "execution_count": 20,
      "outputs": [
        {
          "output_type": "stream",
          "text": [
            "Varianzas:\n",
            "[0.311 0.116 0.113]\n"
          ],
          "name": "stdout"
        }
      ]
    },
    {
      "cell_type": "code",
      "metadata": {
        "id": "JGGgwFVs8PGS",
        "colab_type": "code",
        "colab": {
          "base_uri": "https://localhost:8080/",
          "height": 312
        },
        "outputId": "ee6b9817-87d8-4344-a2fb-ba233776abe9"
      },
      "source": [
        "#Visualización en 2D\n",
        "import matplotlib.pyplot as plt\n",
        "\n",
        "#plt.plot(num_pc, explained_variance)\n",
        "plt.plot(num_pc, explained_variance_ratio_, color='blue', linestyle='dashed', linewidth = 3, \n",
        "         marker='o', markerfacecolor='blue', markersize=12)\n",
        "\n",
        "#plt.ylim((0,0.4))\n",
        "plt.title('Analysis #PC')\n",
        "plt.xlabel('#Principal Components')\n",
        "plt.ylabel('Variance')\n",
        "\n",
        "inicio  = default_timer()\n",
        "\n",
        "plt.show()\n",
        "fin = default_timer()\n",
        "print ('Tiempo de ejecucion: ', fin - inicio)"
      ],
      "execution_count": 21,
      "outputs": [
        {
          "output_type": "display_data",
          "data": {
            "image/png": "[encoded data removed]",
            "text/plain": [
              "<Figure size 432x288 with 1 Axes>"
            ]
          },
          "metadata": {
            "tags": [],
            "needs_background": "light"
          }
        },
        {
          "output_type": "stream",
          "text": [
            "Tiempo de ejecucion:  0.17605020000002014\n"
          ],
          "name": "stdout"
        }
      ]
    },
    {
      "cell_type": "code",
      "metadata": {
        "id": "qSj8FNKI8Vpy",
        "colab_type": "code",
        "colab": {
          "base_uri": "https://localhost:8080/",
          "height": 34
        },
        "outputId": "39930cec-9ba7-4361-db08-77854ea88fe1"
      },
      "source": [
        "#Kmeans Clustering \n",
        "def doKmeans(X, nclust=3):\n",
        "    model = KMeans(nclust)\n",
        "    model.fit(X)\n",
        "    clust_labels = model.predict(X)\n",
        "    cent = model.cluster_centers_\n",
        "    return (clust_labels, cent)\n",
        "\n",
        "inicion = default_timer()\n",
        "\n",
        "clust_labels, cent = doKmeans(principalDf, 3)\n",
        "kmeans = pd.DataFrame(clust_labels)\n",
        "kmeans\n",
        "fin = default_timer()\n",
        "print ('Tiempo de ejecucion: ', fin - inicio)"
      ],
      "execution_count": 22,
      "outputs": [
        {
          "output_type": "stream",
          "text": [
            "Tiempo de ejecucion:  1.863779012000009\n"
          ],
          "name": "stdout"
        }
      ]
    },
    {
      "cell_type": "code",
      "metadata": {
        "id": "x6I9A5lS8cfP",
        "colab_type": "code",
        "colab": {
          "base_uri": "https://localhost:8080/",
          "height": 282
        },
        "outputId": "75a97c0d-5dfd-49e5-c44d-62785d398c9c"
      },
      "source": [
        "\n",
        "#Visualización de grupos de usuarios en 3D\n",
        "from mpl_toolkits import mplot3d\n",
        "%matplotlib inline\n",
        "import numpy as np\n",
        "import matplotlib.pyplot as plt\n",
        "fig = plt.figure()\n",
        "\n",
        "inicio  = default_timer()\n",
        "\n",
        "ax = plt.axes(projection='3d')\n",
        "fin = default_timer()\n",
        "print ('Timepo de ejecucion: ', fin - inicio)\n",
        "\n",
        "\n",
        "# Data for a three-dimensional line\n",
        "zline = np.linspace(-5, 5, 11)\n",
        "xline = np.linspace(0, 10, 11)\n",
        "yline = np.linspace(0, 15, 11)\n",
        "#ax.plot3D(xline, yline, zline, 'gray')\n",
        "\n",
        "# Data for three-dimensional scattered points\n",
        "zdata = principalDf[0]\n",
        "xdata = principalDf[1]\n",
        "ydata = principalDf[2]\n",
        "#ax.scatter3D(xdata, ydata, zdata, c=zdata);\n",
        "ax.scatter3D(xdata, ydata, zdata);\n",
        "ax.set_title('K-Means Clustering')\n",
        "ax.set_xlabel('1ER FACTOR')\n",
        "ax.set_ylabel('2DO FACTOR')\n",
        "ax.set_zlabel('3ER FACTOR')"
      ],
      "execution_count": 23,
      "outputs": [
        {
          "output_type": "stream",
          "text": [
            "Timepo de ejecucion:  0.024118393000009064\n"
          ],
          "name": "stdout"
        },
        {
          "output_type": "execute_result",
          "data": {
            "text/plain": [
              "Text(0.5, 0, '3ER FACTOR')"
            ]
          },
          "metadata": {
            "tags": []
          },
          "execution_count": 23
        },
        {
          "output_type": "display_data",
          "data": {
            "image/png": "[encoded data removed]",
            "text/plain": [
              "<Figure size 432x288 with 1 Axes>"
            ]
          },
          "metadata": {
            "tags": [],
            "needs_background": "light"
          }
        }
      ]
    },
    {
      "cell_type": "code",
      "metadata": {
        "id": "-gXRRBcB8r5o",
        "colab_type": "code",
        "colab": {
          "base_uri": "https://localhost:8080/",
          "height": 329
        },
        "outputId": "739d5e02-af4d-4829-ef26-9787e6ac9b75"
      },
      "source": [
        "#Visualización de grupos  en 2D\n",
        "\n",
        "#determinar el numero de clusters\n",
        "\n",
        "#Datamining: Clustering (método no supervisado de Machine Learning)\n",
        "num_clusters=2\n",
        "clust_labels, cent = doKmeans(principalDf, num_clusters)\n",
        "kmeans = pd.DataFrame(clust_labels)\n",
        "\n",
        "fig = plt.figure()\n",
        "ax = fig.add_subplot(111)\n",
        "scatter = ax.scatter(principalDf[0],principalDf[1],\n",
        "                     c=kmeans[0],s=50)\n",
        "\n",
        "ax.set_title('K-Means Clustering')\n",
        "ax.set_xlabel('1ER FACTOR')\n",
        "ax.set_ylabel('2DO FACTOR')\n",
        "\n",
        "inicio  = default_timer()\n",
        "\n",
        "plt.colorbar(scatter)\n",
        "fin = default_timer()\n",
        "print ('Tiempo de ejecucion: ', fin - inicio)\n",
        "\n",
        "\n",
        "#agregar etiquetas\n",
        "new_ds= df\n",
        "new_ds['etiqueta'] = kmeans\n",
        "new_ds.to_csv('datasetConEtiquetas.csv')\n",
        "print(\"Se creo el archivo con etiquetas\")\n",
        "\n",
        "#print(timeit(\"'Hello, world!'.replace('Hello', 'Goodbye')\"))"
      ],
      "execution_count": 24,
      "outputs": [
        {
          "output_type": "stream",
          "text": [
            "Tiempo de ejecucion:  0.018564991999994618\n",
            "Se creo el archivo con etiquetas\n"
          ],
          "name": "stdout"
        },
        {
          "output_type": "display_data",
          "data": {
            "image/png": "[encoded data removed]",
            "text/plain": [
              "<Figure size 432x288 with 2 Axes>"
            ]
          },
          "metadata": {
            "tags": [],
            "needs_background": "light"
          }
        }
      ]
    },
    {
      "cell_type": "code",
      "metadata": {
        "id": "8eWuBCHs80YZ",
        "colab_type": "code",
        "colab": {}
      },
      "source": [
        ""
      ],
      "execution_count": null,
      "outputs": []
    }
  ]
}